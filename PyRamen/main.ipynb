{
 "cells": [
  {
   "cell_type": "code",
   "execution_count": 28,
   "id": "0da16330-503c-4277-9da9-77d1f1d854d1",
   "metadata": {},
   "outputs": [],
   "source": [
    "# Module 2 Challenge - Main Notebook for PyRamen Challenge"
   ]
  },
  {
   "cell_type": "code",
   "execution_count": 29,
   "id": "a96a1eab-8e84-497d-b155-8a8dd5305ea4",
   "metadata": {
    "tags": []
   },
   "outputs": [],
   "source": [
    "# Import the required libraries (ie pathlib, csv) (os for checking file presence) (sys to use exit function)\n",
    "from pathlib import Path\n",
    "import os  \n",
    "import sys\n",
    "import csv"
   ]
  },
  {
   "cell_type": "code",
   "execution_count": 30,
   "id": "5eb918db-ebb9-4bf2-8fdf-edf46fcc8ab7",
   "metadata": {
    "tags": []
   },
   "outputs": [],
   "source": [
    "# Initialise settings. Note: a convention of UPPERCASE has been adopted for constants\n",
    "\n",
    "# NOTE: Following the README.md guidelines, an error \"IOPub data rate exceeded error\" was being produced due to the amount of error messages being printed (since there are \n",
    "# over 70,000 sales records, and the logic stated in the readme. An alternative approach has been offered here where the error is only produced once per menu item not sold.\n",
    "### IMPLEMENTED_AS_PER_PYRAMEN_README = True     # Set to True: As per README.md logic, but produces this error \"IOPub data rate exceeded error\". Note output file is still generated correctly\n",
    "IMPLEMENTED_AS_PER_PYRAMEN_README = False      # Set to False: Produces a warning message only once for each menu item with no sales        \n",
    "\n",
    "# DEBUG: Shows debug messages when set to True\n",
    "# --------------------------------------------\n",
    "DEBUG = False\n",
    "\n",
    "# INPUT_PATH: folder name where the input files reside\n",
    "# ----------------------------------------------------\n",
    "INPUT_PATH = \"./Resources/\"\n",
    "\n",
    "# OUTPUT_PATH: folder name where the output report will be saved\n",
    "# --------------------------------------------------------------\n",
    "OUTPUT_PATH = \"./\"\n",
    "\n",
    "# File characteristics: Filename, what column delimiters are used and whether there is an header exepected\n",
    "# --------------------------------------------------------------------------------------------------------\n",
    "MENU_DATA_FILENAME  = \"menu_data.csv\"      # Input filename menu data in csv format\n",
    "MENU_DATA_DELIMITER = ','\n",
    "MENU_DATA_HAS_HEADER = True\n",
    "MENU_COL_IDX_ITEM = 0                      # Column index (starting at 0) in the csv file for the Description column\n",
    "MENU_COL_IDX_PRICE = 3                     # Column index (starting at 0) in the csv file for the Price column\n",
    "MENU_COL_IDX_COST = 4                      # Column index (starting at 0) in the csv file for the Cost column\n",
    "\n",
    "SALES_DATA_FILENAME = \"sales_data.csv\"     # Input filename sales data in csv format\n",
    "SALES_DATA_DELIMITER = ','\n",
    "SALES_DATA_HAS_HEADER = True\n",
    "SALES_COL_IDX_QTY = 3                      # Column index (starting at 0) in the csv file for the Quantity column\n",
    "SALES_COL_IDX_MENU_ITEM = 4                # Column index (starting at 0) in the csv file for the Menu_Item column\n",
    "\n",
    "REPORT_FILENAME = \"report.txt\"             # Output report text file where the report will be saved\n",
    "REPORT_DELIMITER = ','\n",
    "REPORT_HAS_HEADER = True"
   ]
  },
  {
   "cell_type": "code",
   "execution_count": 31,
   "id": "f1c6d138-6302-4a1c-9955-b2aa5b7b08b2",
   "metadata": {
    "tags": []
   },
   "outputs": [],
   "source": [
    "# =========================================\n",
    "# Initialise local variables\n",
    "# =========================================\n",
    "# File handling variables\n",
    "menu_data_abs_filename = \"\"           # Operating system independent absolute path and filename to the input menu file\n",
    "sales_data_abs_filename = \"\"         # Operating system independent absolute path and filename to the input sales data file\n",
    "report_abs_filename = \"\"              # Operating system independent absolute path and filename to the output report file\n",
    "\n",
    "# For reporting results\n",
    "output_text = \"\"                         # Buffer where the results are formatted into and used for both output to terminal and to the output report file"
   ]
  },
  {
   "cell_type": "code",
   "execution_count": 32,
   "id": "c0ef50f7-d7cb-436e-bf70-c1614b17a9db",
   "metadata": {
    "tags": []
   },
   "outputs": [],
   "source": [
    "# Obtain a path to the input and output files which is compatible with the user's operating system\n",
    "menu_data_abs_filename = os.path.abspath(INPUT_PATH + MENU_DATA_FILENAME)\n",
    "sales_data_abs_filename = os.path.abspath(INPUT_PATH + SALES_DATA_FILENAME)\n",
    "report_abs_filename = os.path.abspath(OUTPUT_PATH + REPORT_FILENAME)\n",
    "\n",
    "if DEBUG:\n",
    "    print(f\"menu_data_abs_filename: {menu_data_abs_filename}\")\n",
    "    print(f\"sales_data_abs_filename: {sales_data_abs_filename}\")\n",
    "    print(f\"report_abs_filename: {report_abs_filename}\")"
   ]
  },
  {
   "cell_type": "code",
   "execution_count": 33,
   "id": "8cfd6c6a-95fa-4709-842e-97b77f92fb7a",
   "metadata": {
    "tags": []
   },
   "outputs": [],
   "source": [
    "# Check if the menu data file exists, if not show an error message and abort\n",
    "if (not os.path.exists(menu_data_abs_filename)):\n",
    "    print(f'Error: Input file \"{menu_data_abs_filename}\" does not exist')\n",
    "    exit(1)      # Abort with error code"
   ]
  },
  {
   "cell_type": "code",
   "execution_count": 34,
   "id": "5de8617c-7e15-4297-8c63-882624aca04a",
   "metadata": {
    "tags": []
   },
   "outputs": [],
   "source": [
    "# Check if the sales data file exists, if not show an error message and abort\n",
    "if (not os.path.exists(sales_data_abs_filename)):\n",
    "    print(f'Error: Input file \"{sales_data_abs_filename}\" does not exist')\n",
    "    exit(1)      # Abort with error code"
   ]
  },
  {
   "cell_type": "code",
   "execution_count": 35,
   "id": "06add963-537a-42ab-80bd-e59c4554ad5a",
   "metadata": {
    "tags": []
   },
   "outputs": [],
   "source": [
    "# Read in the Menu Data file\n",
    "# --------------------------\n",
    "\n",
    "menu_list=[]      # Initialise menu list where the contents of the menu data file will be loaded\n",
    "\n",
    "# Get a file object for the input file\n",
    "with open( menu_data_abs_filename, 'r') as menu_data_file_obj:\n",
    "    # Get a csv object from the input file object\n",
    "    menu_data_csv_obj = csv.reader(menu_data_file_obj, delimiter=MENU_DATA_DELIMITER)\n",
    "\n",
    "    if (MENU_DATA_HAS_HEADER):      # Skip header if present in the file\n",
    "        next(menu_data_csv_obj)\n",
    "        if DEBUG:\n",
    "            print(f\"Skipping header record in {MENU_DATA_FILENAME}\")\n",
    "    \n",
    "    for menu_item in menu_data_csv_obj:\n",
    "        menu_list.append( menu_item )      "
   ]
  },
  {
   "cell_type": "code",
   "execution_count": 36,
   "id": "7e2d85eb-d015-454f-8556-f578b6c66db1",
   "metadata": {
    "tags": []
   },
   "outputs": [],
   "source": [
    "# Read in the Sales Data file (only the Quantity and Menu Item data)\n",
    "# ---------------------------\n",
    "\n",
    "sales_list=[]     # Initialise sales list where the contents of the sales data file will be loaded\n",
    "report_dict={}    # Initialise the report dictionary which will be used to output the report\n",
    "\n",
    "# Get a file object for the input file\n",
    "with open( sales_data_abs_filename, 'r') as sales_data_file_obj:\n",
    "    # Get a csv object from the input file object\n",
    "    sales_data_csv_obj = csv.reader(sales_data_file_obj, delimiter=SALES_DATA_DELIMITER)\n",
    "\n",
    "    if (SALES_DATA_HAS_HEADER):     # Skip header if present in the file\n",
    "        next(sales_data_csv_obj)\n",
    "        if DEBUG:\n",
    "            print(f\"Skipping header record in {MENU_DATA_FILENAME}\")\n",
    "    \n",
    "    # \"For each row of the sales data, set the following columns of the sales data to their own variables: Quantity  Menu_Item\" \n",
    "    for sales_item in sales_data_csv_obj:\n",
    "        quantity = sales_item[SALES_COL_IDX_QTY]\n",
    "        menu_item = sales_item[SALES_COL_IDX_MENU_ITEM]\n",
    "        sales_list.append( [quantity, menu_item ] ) # Add only the Quantity and Menu Item data to the sales list being loaded\n",
    "        \n",
    "        if not (menu_item in report_dict):      # sales item is not in the report yet so add and initialise the counters and totals\n",
    "            report_dict[menu_item] = { \"01-count\": 0, \"02-revenue\": 0, \"03-cogs\": 0, \"04-profit\": 0 }\n",
    "\n",
    "if DEBUG:\n",
    "    print( \"Report Dict now loaded with: \", report_dict )"
   ]
  },
  {
   "cell_type": "code",
   "execution_count": 37,
   "id": "4f566858-4880-45b8-b3c1-99ca945ad626",
   "metadata": {
    "tags": []
   },
   "outputs": [
    {
     "name": "stdout",
     "output_type": "stream",
     "text": [
      "edamame NO SALES!\n",
      "house salad NO SALES!\n",
      "cucumber sunomono salad NO SALES!\n",
      "hiyashi wakame seaweed salad NO SALES!\n",
      "agedashi tofu NO SALES!\n",
      "hiyayakko tofu NO SALES!\n",
      "pork floss bao NO SALES!\n",
      "kakuni bao NO SALES!\n",
      "edamame fried gyoza (vegan) NO SALES!\n",
      "fried gyoza NO SALES!\n",
      "takoyaki NO SALES!\n",
      "rock shrimp tempura NO SALES!\n",
      "soft-shell crab tempura NO SALES!\n",
      "ebi katsu shrimp bao NO SALES!\n",
      "nagomi shoyu NO SALES!\n",
      "shio ramen NO SALES!\n",
      "spicy miso ramen NO SALES!\n",
      "vegetarian spicy miso NO SALES!\n",
      "miso crab ramen NO SALES!\n",
      "soft-shell miso crab ramen NO SALES!\n",
      "tori paitan ramen NO SALES!\n",
      "tonkotsu ramen NO SALES!\n",
      "burnt garlic tonkotsu ramen NO SALES!\n",
      "vegetarian curry + king trumpet mushroom ramen NO SALES!\n",
      "truffle butter ramen NO SALES!\n",
      "green tea NO SALES!\n",
      "coke NO SALES!\n",
      "black sesame ice cream NO SALES!\n",
      "matcha ice cream NO SALES!\n",
      "mango mochi ice cream NO SALES!\n",
      "strawberry mochi ice cream NO SALES!\n",
      "black sesame creme brulee NO SALES!\n"
     ]
    }
   ],
   "source": [
    "item_description = \"\"\n",
    "item_price = 0\n",
    "item_cost = 0\n",
    "\n",
    "# Create a nested loop by looping through every record in menu.\n",
    "\n",
    "for menu_item in menu_list:                              # For each row of the menu data, set the following columns of the menu data to their own variables:\n",
    "    item_description = menu_item[MENU_COL_IDX_ITEM]      #   Item\n",
    "    item_price = float(menu_item[MENU_COL_IDX_PRICE])    #   Price\n",
    "    item_cost = float( menu_item[MENU_COL_IDX_COST])     #   Cost\n",
    "\n",
    "    if not IMPLEMENTED_AS_PER_PYRAMEN_README:         # Alternate solution which only shows the error message once for items not sold (ie menu item is not in the sales list)\n",
    "        if not item_description in sales_list:        # If there are no sales for this menu item\n",
    "            print (f\"{item_description} NO SALES!\" )  #    Print the error only 1 time\n",
    "                \n",
    "    for sales_item in sales_list:\n",
    "        if item_description == sales_item[1]:                 # If the sales_item in (the reduced) sales (list) is equal to the item in menu...\n",
    "            qty_sold = int(sales_item[0])                     #   capture the quantity from the sales data and the price and cost from the menu data\n",
    "            profit = item_price - item_cost                   #    to calculate the profit for each item.\n",
    "\n",
    "            # Cumulatively add the values to the corresponding metrics in the report like so:\n",
    "            report_dict[menu_item[0]][\"01-count\"] += qty_sold \n",
    "            report_dict[menu_item[0]][\"02-revenue\"] += item_price * qty_sold \n",
    "            report_dict[menu_item[0]][\"03-cogs\"] += item_cost * qty_sold \n",
    "            report_dict[menu_item[0]][\"04-profit\"] += profit * qty_sold\n",
    "        else:\n",
    "            if IMPLEMENTED_AS_PER_PYRAMEN_README:                                         # This solution is based on the README.md which causes an \"IOPub data rate exceeded error\"\n",
    "                print (f\"{sales_item[1]} does not equal {item_description}! NO MATCH!\" )  # Print error for EVERY sales item that doesn't match (as per instructions in README)\n",
    " \n"
   ]
  },
  {
   "cell_type": "code",
   "execution_count": 38,
   "id": "61aa2317-8964-41ec-8f36-46b794985e36",
   "metadata": {
    "tags": []
   },
   "outputs": [
    {
     "name": "stdout",
     "output_type": "stream",
     "text": [
      "spicy miso ramen: {'01-count': 9238, '02-revenue': 110856.0, '03-cogs': 46190.0, '04-profit': 64666.0}\n",
      "tori paitan ramen: {'01-count': 9156, '02-revenue': 119028.0, '03-cogs': 54936.0, '04-profit': 64092.0}\n",
      "truffle butter ramen: {'01-count': 8982, '02-revenue': 125748.0, '03-cogs': 62874.0, '04-profit': 62874.0}\n",
      "tonkotsu ramen: {'01-count': 9288, '02-revenue': 120744.0, '03-cogs': 55728.0, '04-profit': 65016.0}\n",
      "vegetarian spicy miso: {'01-count': 9216, '02-revenue': 110592.0, '03-cogs': 46080.0, '04-profit': 64512.0}\n",
      "shio ramen: {'01-count': 9180, '02-revenue': 100980.0, '03-cogs': 45900.0, '04-profit': 55080.0}\n",
      "miso crab ramen: {'01-count': 8890, '02-revenue': 106680.0, '03-cogs': 53340.0, '04-profit': 53340.0}\n",
      "nagomi shoyu: {'01-count': 9132, '02-revenue': 100452.0, '03-cogs': 45660.0, '04-profit': 54792.0}\n",
      "soft-shell miso crab ramen: {'01-count': 9130, '02-revenue': 127820.0, '03-cogs': 63910.0, '04-profit': 63910.0}\n",
      "burnt garlic tonkotsu ramen: {'01-count': 9070, '02-revenue': 126980.0, '03-cogs': 54420.0, '04-profit': 72560.0}\n",
      "vegetarian curry + king trumpet mushroom ramen: {'01-count': 8824, '02-revenue': 114712.0, '03-cogs': 61768.0, '04-profit': 52944.0}\n",
      "\n",
      "A copy of the report has been saved to: \"C:\\Users\\brusi\\Projects\\BC-assignments\\module_02_challenge\\python-challenge\\PyRamen\\report.txt\" \n"
     ]
    }
   ],
   "source": [
    "# Output the results to the terminal\n",
    "\n",
    "with open(report_abs_filename, 'w') as report_file_handle:   # Open output file for writing\n",
    "    for report_key, report_value in report_dict.items():     # loop through each entry in the report dictionary\n",
    "        output_buffer = f\"{report_key}: {report_value}\\n\"\n",
    "        report_file_handle.write(output_buffer)\n",
    "        print(output_buffer, end=\"\")\n",
    "\n",
    "# Tell the user where they can find the file with the report\n",
    "print(f'\\nA copy of the report has been saved to: \"{report_abs_filename}\" ')"
   ]
  },
  {
   "cell_type": "code",
   "execution_count": null,
   "id": "fda0ac70-3558-4593-a4c4-31ff15d806ae",
   "metadata": {},
   "outputs": [],
   "source": []
  },
  {
   "cell_type": "code",
   "execution_count": null,
   "id": "0addf498-2b4e-4ec0-baba-58000955df63",
   "metadata": {},
   "outputs": [],
   "source": []
  },
  {
   "cell_type": "markdown",
   "id": "26b1a383-c6a0-4dce-a9ea-1d18fdbe1f58",
   "metadata": {},
   "source": [
    "# Pseudo Code\n",
    "\n",
    "1. Read the Data\n",
    "    1. Read in menu_data.csv and set its contents to a separate list object.\n",
    "    1. Initialize variables: empty menu list, sales_list, report_dictionary objects\n",
    "    1. Load menu_data.csv into a list (menu_list) skipping the header record\n",
    "    1. Load sales_data.csv into a separate list (sales_list) skipping the header record \n",
    "1. Manipulate the Data\n",
    "    1. Initialize an empty report dictionary to hold the future aggregated per-product results. The report dictionary will eventually contain the following metrics:\n",
    "        1. 01-count: the total quantity for each ramen type\n",
    "        1. 02-revenue: the total revenue for each ramen type\n",
    "        1. 03-cogs: the total cost of goods sold for each ramen type\n",
    "        1. 04-profit: the total profit for each ramen type\n",
    "    1. Then, loops through every row in the sales list object:\n",
    "        1. For each row of the sales data, set the following columns of the sales data to their own variables: Quantity, Menu_Item\n",
    "        1. Perform a quick check if the sales_item is already included in the report. If not, initialize the key-value pairs for the particular sales_item in the report. Then, set the sales_item as a new key to the report dictionary and the values as a nested dictionary containing the following:\n",
    "        ```{\n",
    "        \"01-count\": 0,\n",
    "        \"02-revenue\": 0,\n",
    "        \"03-cogs\": 0,\n",
    "        \"04-profit\": 0,\n",
    "        }``` \n",
    "\n",
    "        1. Create a nested loop by looping through every record in menu.\n",
    "            1. For each row of the menu data, set the following columns of the menu data to their own variables: Item, Price, Cost\n",
    "            1. If the sales_item in sales is equal to the item in menu, capture the quantity from the sales data and the price and cost from the menu data to calculate the profit for each item.\n",
    "                1. Cumulatively add the values to the corresponding metrics in the report like so:\n",
    "                ```\n",
    "                report[sales_item][\"01-count\"] += quantity\n",
    "                report[sales_item][\"02-revenue\"] += price * quantity\n",
    "                report[sales_item][\"03-cogs\"] += cost * quantity\n",
    "                report[sales_item][\"04-profit\"] += profit * quantity\n",
    "                ```\n",
    "            1. Else print the message \"{sales_item} does not equal {item}! NO MATCH!\".\n",
    "\n",
    "\n",
    "        1. Write out the contents of the report dictionary to a text file. The report should output each ramen type as the keys and 01-count, 02-revenue, 03-cogs, and 04-profit metrics as the values for every ramen type as shown:\n",
    "```\n",
    "spicy miso ramen {'01-count': 9238, '02-revenue': 110856.0, '03-cogs': 46190.0, '04-profit': 64666.0}\n",
    "tori paitan ramen {'01-count': 9156, '02-revenue': 119028.0, '03-cogs': 54936.0, '04-profit': 64092.0}\n",
    "truffle butter ramen {'01-count': 8982, '02-revenue': 125748.0, '03-cogs': 62874.0, '04-profit': 62874.0}\n",
    "tonkotsu ramen {'01-count': 9288, '02-revenue': 120744.0, '03-cogs': 55728.0, '04-profit': 65016.0}\n",
    "vegetarian spicy miso {'01-count': 9216, '02-revenue': 110592.0, '03-cogs': 46080.0, '04-profit': 64512.0}\n",
    "shio ramen {'01-count': 9180, '02-revenue': 100980.0, '03-cogs': 45900.0, '04-profit': 55080.0}\n",
    "miso crab ramen {'01-count': 8890, '02-revenue': 106680.0, '03-cogs': 53340.0, '04-profit': 53340.0}\n",
    "nagomi shoyu {'01-count': 9132, '02-revenue': 100452.0, '03-cogs': 45660.0, '04-profit': 54792.0}\n",
    "soft-shell miso crab ramen {'01-count': 9130, '02-revenue': 127820.0, '03-cogs': 63910.0, '04-profit': 63910.0}\n",
    "burnt garlic tonkotsu ramen {'01-count': 9070, '02-revenue': 126980.0, '03-cogs': 54420.0, '04-profit': 72560.0}\n",
    "vegetarian curry + king trumpet mushroom ramen {'01-count': 8824, '02-revenue': 114712.0, '03-cogs': 61768.0, '04-profit': 52944.0}\n",
    "```"
   ]
  },
  {
   "cell_type": "code",
   "execution_count": null,
   "id": "14f757ad-8368-41da-b8c4-84190cfb0e73",
   "metadata": {},
   "outputs": [],
   "source": []
  }
 ],
 "metadata": {
  "kernelspec": {
   "display_name": "Python 3 (ipykernel)",
   "language": "python",
   "name": "python3"
  },
  "language_info": {
   "codemirror_mode": {
    "name": "ipython",
    "version": 3
   },
   "file_extension": ".py",
   "mimetype": "text/x-python",
   "name": "python",
   "nbconvert_exporter": "python",
   "pygments_lexer": "ipython3",
   "version": "3.10.12"
  }
 },
 "nbformat": 4,
 "nbformat_minor": 5
}
