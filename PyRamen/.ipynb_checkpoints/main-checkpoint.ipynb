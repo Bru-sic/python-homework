{
 "cells": [
  {
   "cell_type": "code",
   "execution_count": null,
   "id": "0da16330-503c-4277-9da9-77d1f1d854d1",
   "metadata": {},
   "outputs": [],
   "source": [
    "# Module 2 Challenge - Main Notebook for PyRamen Challenge"
   ]
  }
 ],
 "metadata": {
  "kernelspec": {
   "display_name": "Python 3 (ipykernel)",
   "language": "python",
   "name": "python3"
  },
  "language_info": {
   "codemirror_mode": {
    "name": "ipython",
    "version": 3
   },
   "file_extension": ".py",
   "mimetype": "text/x-python",
   "name": "python",
   "nbconvert_exporter": "python",
   "pygments_lexer": "ipython3",
   "version": "3.10.12"
  }
 },
 "nbformat": 4,
 "nbformat_minor": 5
}
