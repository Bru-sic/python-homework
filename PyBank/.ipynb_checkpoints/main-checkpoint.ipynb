{
 "cells": [
  {
   "cell_type": "raw",
   "id": "3ec7fa2a-6652-47f5-a65a-453e1e4cbebd",
   "metadata": {
    "tags": []
   },
   "source": [
    "# Module 2 Challenge - Main Notebook for PyBank Challenge\n",
    "\"\"\"\n",
    "Summary: This script analyses financial records contained in a csv file (budget_data.csv).\n",
    "\"\"\"     "
   ]
  },
  {
   "cell_type": "raw",
   "id": "d7f16577-4cfb-4485-9ab6-0c53f263bca9",
   "metadata": {
    "tags": []
   },
   "source": [
    "# Module 2 Challenge - Main Notebook for PyBank Challenge\n",
    "\n",
    "Due Date: Thursday 7 September 2023\n",
    "\n",
    "## Summary\n",
    "This script analyses financial records contained in a csv file \\(budget_data.csv\\).\n",
    "\n",
    "## Assumptions\n",
    "1. There will always be 2 columns present in the order provided in the sample data\n",
    "2. A header column is present (could down the track add more complex validation to automatically detect header presence)\n",
    "The csv file is expected to contain:\n",
    "* A Header Row with two columns \"Date\" and \"Profit/Losses\"\n",
    "* \"Date\" column in the format of MMM-YYYY (for example Jan-2011)\n",
    "* \"Profit/Losses\" column as a large number (seems to be rounded to 0 decimals) which may be positive or negative.\n",
    "For example:\n",
    "```Date,Profit/Losses\n",
    "Jan-2010,867884\n",
    "Feb-2010,984655\n",
    "Mar-2010,322013\n",
    "Apr-2010,-69417\n",
    "```\n",
    "\n",
    "\n",
    "## Pseudo Code\n",
    "1. Initialise\n",
    "    1. COULD: Show startup banner (eg \"Starting\" )\n",
    "    1. Intialise variables (eg counters etc)\n",
    "    1. Setup environment\n",
    "    1. COULD: Initial checks (eg input file exists and is not a directory). Abort on error\n",
    "1. Main (enters only if initialisation is successful)\n",
    "    1. COULD: Show progress banner (eg \"Processing\" )\n",
    "    1. Load the input file. COULD: Abort with appropriate error message on error.\n",
    "    1. COULD: Check csv file has at least 2 columns. if < 2 Abort with appropriate error message. \n",
    "    1. COULD: Check row 1 headings are present and from there determine which is the date column and which is the numeric value.\n",
    "    1. Load CSV into a dictionary\n",
    "    1. Perform calculations as per Detail section below\n",
    "    1. Output the results to screen\n",
    "    1. Output the results to file\n",
    "1. Finalise\n",
    "    1. Tidy up (if required)\n",
    "\n",
    "### Detail\n",
    "The following calculations are performed from the data contained in the input file \"budget_data.csv\":\n",
    "1. The total number of months included in the dataset (ie the number of records)\n",
    "2. The net total amount of Profit/Losses over the entire period: (sum of all the records)\n",
    "3. The average of the changes in Profit/Losses over the entire period: ( e.g. round ( average( y2 - y1, y3 - y2, yn - y(n-1) ) )\n",
    "4. The greatest increase in profits (date and amount) over the entire period ( maximum of the calculated average changes )\n",
    "5. The greatest decrease in losses (date and amount) over the entire period ( minimum of the calculated average changes )\n",
    "\n",
    "\n",
    "Output\n",
    "The results are displayed on the teminal and exported to a text file.\n",
    "Save the output to a fixed filename\n",
    "COULD: warn user if they want to overwrite the output file if it already exists\n",
    "ALTERNATIVELY COULD: name the output file  (financial_report_MIN-DATE_MAX-DATE.csv)\n",
    "    ALTERNATIVELY COULD: use a function to generate a unique filename.\n",
    " \n",
    "The output report  similar to the following:\n",
    "\n",
    "  Financial Analysis\n",
    "  ----------------------------\n",
    "  Total Months: 99   \n",
    "  Total: $-9999999999   \n",
    "  Average  Change: $-9999999999.99   \n",
    "  Greatest Increase in Profits: MMM-YYYY ($-9999999999)   \n",
    "  Greatest Decrease in Profits: MMM-YYYY ($-9999999999)   \n",
    "\n",
    "\n",
    "# References / Acknowledgements\n",
    "1. Python Language Reference: https://docs.python.org/3/library/functions.html\n",
    "2. Class notes "
   ]
  }
 ],
 "metadata": {
  "kernelspec": {
   "display_name": "Python 3 (ipykernel)",
   "language": "python",
   "name": "python3"
  },
  "language_info": {
   "codemirror_mode": {
    "name": "ipython",
    "version": 3
   },
   "file_extension": ".py",
   "mimetype": "text/x-python",
   "name": "python",
   "nbconvert_exporter": "python",
   "pygments_lexer": "ipython3",
   "version": "3.10.12"
  }
 },
 "nbformat": 4,
 "nbformat_minor": 5
}
